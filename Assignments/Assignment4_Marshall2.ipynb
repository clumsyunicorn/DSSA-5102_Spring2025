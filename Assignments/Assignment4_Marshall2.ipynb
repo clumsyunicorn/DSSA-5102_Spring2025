{
 "cells": [
  {
   "cell_type": "code",
   "execution_count": 1,
   "id": "d7cf99f9-ba20-4232-9285-bebaffa4fb98",
   "metadata": {},
   "outputs": [
    {
     "data": {
      "image/png": "[encoded data removed]",
      "text/plain": [
       "<Figure size 640x480 with 2 Axes>"
      ]
     },
     "metadata": {},
     "output_type": "display_data"
    },
    {
     "name": "stdout",
     "output_type": "stream",
     "text": [
      "Accuracy: 0.48\n",
      "Sensitivity (True Positive Rate - Female): 0.08\n",
      "Specificity (True Negative Rate - Male): 1.00\n"
     ]
    }
   ],
   "source": [
    "\"\"\"\n",
    "Name: Alyssia Marshall\n",
    "Assignment 4: Logistic Regression on Palmer Penguin Dataset\n",
    "Date: March 10, 2025\n",
    "\n",
    "Description:\n",
    "This project applies logistic regression to classify the sex of penguins based on physical attributes.\n",
    "The implementation is adapted from Chapter 5 of \"Machine Learning in Action.\"\n",
    "\"\"\"\n",
    "\n",
    "import numpy as np\n",
    "import pandas as pd\n",
    "import matplotlib.pyplot as plt\n",
    "from sklearn.model_selection import train_test_split\n",
    "from sklearn.metrics import confusion_matrix, accuracy_score, ConfusionMatrixDisplay\n",
    "\n",
    "# Load dataset\n",
    "data = pd.read_csv(\"penguins_clean.csv\")\n",
    "\n",
    "# Drop rows with missing values\n",
    "data = data.dropna(subset=['bill_length_mm', 'bill_depth_mm', 'flipper_length_mm', 'body_mass_g', 'sex'])\n",
    "\n",
    "# Encode 'sex' column (male=0, female=1)\n",
    "data['sex'] = data['sex'].map({'male': 0, 'female': 1})\n",
    "\n",
    "# Select predictor variables (features) and target variable (label)\n",
    "X = data[['bill_length_mm', 'bill_depth_mm', 'flipper_length_mm', 'body_mass_g']].to_numpy()\n",
    "y = data['sex'].to_numpy()\n",
    "\n",
    "# Normalize features using min-max scaling\n",
    "X_min = X.min(axis=0)\n",
    "X_max = X.max(axis=0)\n",
    "X = (X - X_min) / (X_max - X_min)\n",
    "\n",
    "# Add bias term (column of 1s) for logistic regression\n",
    "X = np.insert(X, 0, 1, axis=1)\n",
    "\n",
    "# Split dataset into training (80%) and testing (20%) sets\n",
    "X_train, X_test, y_train, y_test = train_test_split(X, y, test_size=0.2, random_state=0)\n",
    "\n",
    "# Sigmoid function\n",
    "def sigmoid(z):\n",
    "    return 1 / (1 + np.exp(-z))\n",
    "\n",
    "# Gradient Descent for Logistic Regression\n",
    "def grad_ascent(X, y, alpha=0.01, iterations=1000):\n",
    "    m, n = X.shape\n",
    "    weights = np.zeros(n)  # Initialize weights\n",
    "    \n",
    "    for _ in range(iterations):\n",
    "        predictions = sigmoid(np.dot(X, weights))\n",
    "        error = y - predictions\n",
    "        weights += alpha * np.dot(X.T, error) / m  # Gradient update\n",
    "    \n",
    "    return weights\n",
    "\n",
    "# Train the logistic regression model\n",
    "beta = grad_ascent(X_train, y_train)\n",
    "\n",
    "# Prediction function\n",
    "def predict(X, beta):\n",
    "    return (sigmoid(np.dot(X, beta)) >= 0.5).astype(int)\n",
    "\n",
    "# Make predictions\n",
    "y_pred = predict(X_test, beta)\n",
    "\n",
    "# Compute accuracy and confusion matrix\n",
    "accuracy = accuracy_score(y_test, y_pred)\n",
    "conf_matrix = confusion_matrix(y_test, y_pred)\n",
    "\n",
    "# Display confusion matrix\n",
    "cm_display = ConfusionMatrixDisplay(conf_matrix, display_labels=['Male', 'Female'])\n",
    "cm_display.plot()\n",
    "plt.show()\n",
    "\n",
    "# Compute sensitivity and specificity\n",
    "true_negatives, false_positives, false_negatives, true_positives = conf_matrix.ravel()\n",
    "sensitivity = true_positives / (true_positives + false_negatives)\n",
    "specificity = true_negatives / (true_negatives + false_positives)\n",
    "\n",
    "# Print evaluation metrics\n",
    "print(f\"Accuracy: {accuracy:.2f}\")\n",
    "print(f\"Sensitivity (True Positive Rate - Female): {sensitivity:.2f}\")\n",
    "print(f\"Specificity (True Negative Rate - Male): {specificity:.2f}\")\n"
   ]
  },
  {
   "cell_type": "code",
   "execution_count": null,
   "id": "66243006-e278-4612-ba62-77561e7e0c78",
   "metadata": {},
   "outputs": [],
   "source": []
  }
 ],
 "metadata": {
  "kernelspec": {
   "display_name": "anaconda-2024.02-py310",
   "language": "python",
   "name": "conda-env-anaconda-2024.02-py310-py"
  },
  "language_info": {
   "codemirror_mode": {
    "name": "ipython",
    "version": 3
   },
   "file_extension": ".py",
   "mimetype": "text/x-python",
   "name": "python",
   "nbconvert_exporter": "python",
   "pygments_lexer": "ipython3",
   "version": "3.10.14"
  }
 },
 "nbformat": 4,
 "nbformat_minor": 5
}
